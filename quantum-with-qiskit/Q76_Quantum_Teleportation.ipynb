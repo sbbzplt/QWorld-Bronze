{
  "cells": [
    {
      "cell_type": "markdown",
      "metadata": {
        "id": "view-in-github",
        "colab_type": "text"
      },
      "source": [
        "<a href=\"https://colab.research.google.com/github/sbbzplt/QWorld-Bronze/blob/master/quantum-with-qiskit/Q76_Quantum_Teleportation.ipynb\" target=\"_parent\"><img src=\"https://colab.research.google.com/assets/colab-badge.svg\" alt=\"Open In Colab\"/></a>"
      ]
    },
    {
      "cell_type": "markdown",
      "metadata": {
        "id": "HBC-SuUI9cq-"
      },
      "source": [
        "<a href=\"https://qworld.net\" target=\"_blank\" align=\"left\"><img src=\"https://github.com/sbbzplt/QWorld-Bronze/blob/master/qworld/images/header.jpg?raw=1\"  align=\"left\"></a>\n",
        "$ \\newcommand{\\bra}[1]{\\langle #1|} $\n",
        "$ \\newcommand{\\ket}[1]{|#1\\rangle} $\n",
        "$ \\newcommand{\\braket}[2]{\\langle #1|#2\\rangle} $\n",
        "$ \\newcommand{\\dot}[2]{ #1 \\cdot #2} $\n",
        "$ \\newcommand{\\biginner}[2]{\\left\\langle #1,#2\\right\\rangle} $\n",
        "$ \\newcommand{\\mymatrix}[2]{\\left( \\begin{array}{#1} #2\\end{array} \\right)} $\n",
        "$ \\newcommand{\\myvector}[1]{\\mymatrix{c}{#1}} $\n",
        "$ \\newcommand{\\myrvector}[1]{\\mymatrix{r}{#1}} $\n",
        "$ \\newcommand{\\mypar}[1]{\\left( #1 \\right)} $\n",
        "$ \\newcommand{\\mybigpar}[1]{ \\Big( #1 \\Big)} $\n",
        "$ \\newcommand{\\sqrttwo}{\\frac{1}{\\sqrt{2}}} $\n",
        "$ \\newcommand{\\dsqrttwo}{\\dfrac{1}{\\sqrt{2}}} $\n",
        "$ \\newcommand{\\onehalf}{\\frac{1}{2}} $\n",
        "$ \\newcommand{\\donehalf}{\\dfrac{1}{2}} $\n",
        "$ \\newcommand{\\hadamard}{ \\mymatrix{rr}{ \\sqrttwo & \\sqrttwo \\\\ \\sqrttwo & -\\sqrttwo }} $\n",
        "$ \\newcommand{\\vzero}{\\myvector{1\\\\0}} $\n",
        "$ \\newcommand{\\vone}{\\myvector{0\\\\1}} $\n",
        "$ \\newcommand{\\stateplus}{\\myvector{ \\sqrttwo \\\\  \\sqrttwo } } $\n",
        "$ \\newcommand{\\stateminus}{ \\myrvector{ \\sqrttwo \\\\ -\\sqrttwo } } $\n",
        "$ \\newcommand{\\myarray}[2]{ \\begin{array}{#1}#2\\end{array}} $\n",
        "$ \\newcommand{\\X}{ \\mymatrix{cc}{0 & 1 \\\\ 1 & 0}  } $\n",
        "$ \\newcommand{\\I}{ \\mymatrix{rr}{1 & 0 \\\\ 0 & 1}  } $\n",
        "$ \\newcommand{\\Z}{ \\mymatrix{rr}{1 & 0 \\\\ 0 & -1}  } $\n",
        "$ \\newcommand{\\Htwo}{ \\mymatrix{rrrr}{ \\frac{1}{2} & \\frac{1}{2} & \\frac{1}{2} & \\frac{1}{2} \\\\ \\frac{1}{2} & -\\frac{1}{2} & \\frac{1}{2} & -\\frac{1}{2} \\\\ \\frac{1}{2} & \\frac{1}{2} & -\\frac{1}{2} & -\\frac{1}{2} \\\\ \\frac{1}{2} & -\\frac{1}{2} & -\\frac{1}{2} & \\frac{1}{2} } } $\n",
        "$ \\newcommand{\\CNOT}{ \\mymatrix{cccc}{1 & 0 & 0 & 0 \\\\ 0 & 1 & 0 & 0 \\\\ 0 & 0 & 0 & 1 \\\\ 0 & 0 & 1 & 0} } $\n",
        "$ \\newcommand{\\norm}[1]{ \\left\\lVert #1 \\right\\rVert } $\n",
        "$ \\newcommand{\\pstate}[1]{ \\lceil \\mspace{-1mu} #1 \\mspace{-1.5mu} \\rfloor } $\n",
        "$ \\newcommand{\\greenbit}[1] {\\mathbf{{\\color{green}#1}}} $\n",
        "$ \\newcommand{\\bluebit}[1] {\\mathbf{{\\color{blue}#1}}} $\n",
        "$ \\newcommand{\\redbit}[1] {\\mathbf{{\\color{red}#1}}} $\n",
        "$ \\newcommand{\\brownbit}[1] {\\mathbf{{\\color{brown}#1}}} $\n",
        "$ \\newcommand{\\blackbit}[1] {\\mathbf{{\\color{black}#1}}} $"
      ]
    },
    {
      "cell_type": "markdown",
      "metadata": {
        "id": "O2plqHmm9crA"
      },
      "source": [
        "<font style=\"font-size:28px;\" align=\"left\"><b> Quantum Teleportation </b></font>\n",
        "<br>\n",
        "_prepared by Abuzer Yakaryilmaz_\n",
        "<br><br>\n",
        "[<img src=\"https://github.com/sbbzplt/QWorld-Bronze/blob/master/qworld/images/watch_lecture.jpg?raw=1\" align=\"left\">](https://youtu.be/4PYeoqALKHk)\n",
        "<br><br><br>"
      ]
    },
    {
      "cell_type": "markdown",
      "metadata": {
        "id": "QGb-9L5U9crB"
      },
      "source": [
        "<hr>\n",
        "\n",
        "_**Prepare a few blank sheets of paper**_\n",
        "- _**to draw the circuit of the following protocol step by step and**_\n",
        "- _**to solve some of tasks requiring certain calculations.**_\n",
        "\n",
        "<hr>"
      ]
    },
    {
      "cell_type": "markdown",
      "metadata": {
        "id": "vywC2Jhs9crC"
      },
      "source": [
        "Asja wants to send a qubit to Balvis by using only classical communication.\n",
        "\n",
        "Let $ \\ket{v} = \\myvector{a\\\\b} \\in \\mathbb{R}^2 $ be the quantum state.\n",
        "\n",
        "_Discussion:_ If Asja has many copies of this qubit, then she can collect the statistics based on these qubits and obtain an approximation of $ a $ and $ b $, say $ \\tilde{a} $ and $\\tilde{b}$, respectively. After this, Asja can send $ \\tilde{a} $ and $\\tilde{b}$ by using many classical bits, the number of which depends on the precision of the amplitudes."
      ]
    },
    {
      "cell_type": "markdown",
      "metadata": {
        "id": "yrzCH7CI9crC"
      },
      "source": [
        "On the other hand, If Asja and Balvis share the entangled qubits in state $ \\sqrttwo\\ket{00} + \\sqrttwo\\ket{11} $ in advance, then it is possible for Balvis to create $ \\ket{v} $ in his qubit after receiving two bits of information from Asja."
      ]
    },
    {
      "cell_type": "markdown",
      "metadata": {
        "id": "BBD1-GC_9crC"
      },
      "source": [
        "<h3> Protocol </h3>\n",
        "\n",
        "The protocol uses three qubits as specified below:\n",
        "\n",
        "<img src='https://github.com/sbbzplt/QWorld-Bronze/blob/master/quantum-with-qiskit/images/quantum_teleportation_qubits.png?raw=1' width=\"25%\" align=\"left\">"
      ]
    },
    {
      "cell_type": "markdown",
      "metadata": {
        "id": "UpMnECAY9crD"
      },
      "source": [
        "Asja has two qubits and Balvis has one qubit.\n",
        "\n",
        "Asja's quantum message (key) is $ \\ket{v} = \\myvector{a\\\\b} = a\\ket{0} + b\\ket{1} $.\n",
        "\n",
        "The entanglement between Asja's second qubit and Balvis' qubit is  $ \\sqrttwo\\ket{00} + \\sqrttwo\\ket{11} $.\n",
        "\n",
        "So, the quantum state of the three qubits is\n",
        "\n",
        "$$ \\mypar{a\\ket{0} + b\\ket{1}}\\mypar{\\sqrttwo\\ket{00} + \\sqrttwo\\ket{11}}\n",
        "    = \\sqrttwo \\big( a\\ket{000} + a \\ket{011} + b\\ket{100} + b \\ket{111} \\big).  $$"
      ]
    },
    {
      "cell_type": "markdown",
      "metadata": {
        "id": "gcXhbG6E9crD"
      },
      "source": [
        "<h4> CNOT operator by Asja </h4>\n",
        "\n",
        "Asja applies CNOT gate to her qubits where $q[2]$ is the control qubit and $q[1]$ is the target qubit."
      ]
    },
    {
      "cell_type": "markdown",
      "metadata": {
        "id": "dyrBy3ls9crD"
      },
      "source": [
        "<h3>Task 1</h3>\n",
        "\n",
        "Calculate the new quantum state after this CNOT operator."
      ]
    },
    {
      "cell_type": "markdown",
      "metadata": {
        "id": "Hj5i_nXg9crE"
      },
      "source": [
        "<a href=\"Q76_Quantum_Teleportation_Solutions.ipynb#task1\">click for our solution</a>"
      ]
    },
    {
      "cell_type": "markdown",
      "metadata": {
        "id": "o1lYm1Y09crE"
      },
      "source": [
        "<h3>Hadamard operator by Asja</h3>\n",
        "\n",
        "Asja applies Hadamard gate to $q[2]$."
      ]
    },
    {
      "cell_type": "markdown",
      "metadata": {
        "id": "pGQLTf1h9crE"
      },
      "source": [
        "<h3>Task 2</h3>\n",
        "\n",
        "Calculate the new quantum state after this Hadamard operator.\n",
        "\n",
        "Verify that the resulting quantum state can be written as follows:\n",
        "\n",
        "$$  \n",
        "    \\frac{1}{2} \\ket{00} \\big( a\\ket{0}+b\\ket{1} \\big) +\n",
        "    \\frac{1}{2} \\ket{01} \\big( a\\ket{1}+b\\ket{0} \\big) +\n",
        "    \\frac{1}{2} \\ket{10} \\big( a\\ket{0}-b\\ket{1} \\big) +\n",
        "    \\frac{1}{2} \\ket{11} \\big( a\\ket{1}-b\\ket{0} \\big) .\n",
        "$$"
      ]
    },
    {
      "cell_type": "markdown",
      "metadata": {
        "id": "IKxMekEt9crF"
      },
      "source": [
        "<a href=\"Q76_Quantum_Teleportation_Solutions.ipynb#task2\">click for our solution</a>"
      ]
    },
    {
      "cell_type": "markdown",
      "metadata": {
        "id": "zgTVnf7t9crF"
      },
      "source": [
        "<h3> Measurement by Asja </h3>\n",
        "\n",
        "Asja measures her qubits. With probability $ \\frac{1}{4} $, she can observe one of the basis states.\n",
        "\n",
        "Depeding on the measurement outcomes, Balvis' qubit is in the following states:\n",
        "<ol>\n",
        "    <li> \"00\": $ \\ket{v_{00}} = a\\ket{0} + b \\ket{1} $ </li>\n",
        "    <li> \"01\": $ \\ket{v_{01}} =  a\\ket{1} + b \\ket{0} $ </li>\n",
        "    <li> \"10\": $ \\ket{v_{10}} =  a\\ket{0} - b \\ket{1} $ </li>\n",
        "    <li> \"11\": $ \\ket{v_{11}} =  a\\ket{1} - b \\ket{0} $ </li>\n",
        "</ol>"
      ]
    },
    {
      "cell_type": "markdown",
      "metadata": {
        "id": "vYxv1RRd9crF"
      },
      "source": [
        "As can be observed, the amplitudes $ a $ and $ b $ are \"transferred\" to Balvis' qubit in each case.\n",
        "\n",
        "If Asja sends the measurement outcomes, then Balvis can construct $ \\ket{v} $ exactly."
      ]
    },
    {
      "cell_type": "markdown",
      "metadata": {
        "id": "tkkqMb_q9crF"
      },
      "source": [
        "<h3>Task 3</h3>\n",
        "\n",
        "Asja sends the measurement outcomes to Balvis by using two classical bits: $ x $ and $ y $.\n",
        "\n",
        "For each $ (x,y) $ pair, determine the quantum operator(s) that Balvis can apply to obtain $ \\ket{v} = a\\ket{0}+b\\ket{1} $ exactly."
      ]
    },
    {
      "cell_type": "markdown",
      "metadata": {
        "id": "AHbAHus-9crG"
      },
      "source": [
        "<a href=\"Q76_Quantum_Teleportation_Solutions.ipynb#task3\">click for our solution</a>"
      ]
    },
    {
      "cell_type": "markdown",
      "metadata": {
        "id": "9PrMeeHh9crG"
      },
      "source": [
        "<h3> Task 4 </h3>\n",
        "\n",
        "Create a quantum circuit with three qubits as described at the beginning of this notebook and two classical bits.\n",
        "\n",
        "Implement the protocol given above until Asja makes the measurements (included).\n",
        "- The state of $q[2]$ can be set by the rotation with a randomly picked angle.\n",
        "- Remark that Balvis does not make the measurement.\n",
        "\n",
        "At this point, read the state vector of the circuit by using \"statevector_simulator\".\n",
        "\n",
        "_When a circuit having measurement is simulated by \"statevector_simulator\", the simulator picks one of the outcomes, and so we see one of the states after the measurement._\n",
        "\n",
        "Verify that the state of Balvis' qubit is in one of these: $ \\ket{v_{00}}$, $ \\ket{v_{01}}$, $ \\ket{v_{10}}$, and $ \\ket{v_{11}}$.\n",
        "\n",
        "Guess the measurement outcome obtained by \"statevector_simulator\"."
      ]
    },
    {
      "cell_type": "code",
      "execution_count": null,
      "metadata": {
        "id": "CT_3B8zU9crG"
      },
      "outputs": [],
      "source": [
        "#\n",
        "# your code is here\n",
        "#\n"
      ]
    },
    {
      "cell_type": "markdown",
      "metadata": {
        "id": "tT3grc7L9crH"
      },
      "source": [
        "<a href=\"Q76_Quantum_Teleportation_Solutions.ipynb#task4\">click for our solution</a>"
      ]
    },
    {
      "cell_type": "markdown",
      "metadata": {
        "id": "S7xGzgn19crH"
      },
      "source": [
        "<h3> Task 5 </h3>\n",
        "\n",
        "Implement the protocol above by including the post-processing part done by Balvis, i.e., the measurement results by Asja are sent to Balvis and then he may apply $ X $ or $ Z $ gates depending on the measurement results.\n",
        "\n",
        "We use the classically controlled quantum operators.\n",
        "\n",
        "Since we do not make measurement on $ q[0] $, we define only 2 classical bits, each of which can also be defined separated.\n",
        "\n",
        "    q = QuantumRegister(3)\n",
        "    c2 = ClassicalRegister(1,'c2')\n",
        "    c1 = ClassicalRegister(1,'c1')\n",
        "    qc = QuantumCircuit(q,c1,c2)\n",
        "    ...\n",
        "    qc.measure(q[1],c1)\n",
        "    ...\n",
        "    qc.x(q[0]).c_if(c1,1) # x-gate is applied to q[0] if the classical bit c1 is equal to 1\n",
        "\n",
        "Read the state vector and verify that Balvis' state is $ \\myvector{a \\\\ b} $ after the post-processing."
      ]
    },
    {
      "cell_type": "code",
      "execution_count": null,
      "metadata": {
        "id": "JVo8DHG_9crH"
      },
      "outputs": [],
      "source": [
        "#\n",
        "# your code is here\n",
        "#\n"
      ]
    },
    {
      "cell_type": "markdown",
      "metadata": {
        "id": "Mc_hJHXY9crH"
      },
      "source": [
        "<a href=\"Q76_Quantum_Teleportation_Solutions.ipynb#task5\">click for our solution</a>"
      ]
    },
    {
      "cell_type": "markdown",
      "source": [
        "![image.png](data:image/png;base64,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)"
      ],
      "metadata": {
        "id": "PNkNo1dl9fe_"
      }
    },
    {
      "cell_type": "markdown",
      "metadata": {
        "id": "4Yz9am1J9crI"
      },
      "source": [
        "<!--\n",
        "<h3> Task 6 (optional) </h3>\n",
        "\n",
        "Observe that Balvis can also t\n",
        "\n",
        "Create a quantum circuit with four qubits and four classical bits.\n",
        "\n",
        "Assume that Asja has the first two qubits (number 3 and 2) and Balvis has the last two qubits (number 1 and 0).\n",
        "\n",
        "Create an entanglement between qubits 2 and 1.\n",
        "\n",
        "Implement the protocol (the state of the qubit can be set by a rotation with randomly picked angle):\n",
        "- If Asja teleports a qubit, then set the state of qubit 3.\n",
        "- If Balvis teleports a qubit, then set the state of qubit 0.\n",
        "-->"
      ]
    }
  ],
  "metadata": {
    "kernelspec": {
      "display_name": "Python 3",
      "language": "python",
      "name": "python3"
    },
    "language_info": {
      "codemirror_mode": {
        "name": "ipython",
        "version": 3
      },
      "file_extension": ".py",
      "mimetype": "text/x-python",
      "name": "python",
      "nbconvert_exporter": "python",
      "pygments_lexer": "ipython3",
      "version": "3.7.1"
    },
    "colab": {
      "provenance": [],
      "include_colab_link": true
    }
  },
  "nbformat": 4,
  "nbformat_minor": 0
}